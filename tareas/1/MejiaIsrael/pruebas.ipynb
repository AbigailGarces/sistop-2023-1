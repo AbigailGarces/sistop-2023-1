{
 "cells": [
  {
   "cell_type": "code",
   "execution_count": 1,
   "metadata": {},
   "outputs": [
    {
     "name": "stdout",
     "output_type": "stream",
     "text": [
      "A\n"
     ]
    }
   ],
   "source": [
    "process_list = [\n",
    "                'A','A','-','-','B'\n",
    "               ,'B','C','C','-','-'\n",
    "               ,'D','-','D','D','D'\n",
    "               ,'D','E','-','-','-'\n",
    "               ,'-','-','-','H','H'\n",
    "               ,'H','-','I','-','-'\n",
    "               ]\n",
    "print(process_list[1])"
   ]
  },
  {
   "cell_type": "code",
   "execution_count": 8,
   "metadata": {},
   "outputs": [
    {
     "name": "stdout",
     "output_type": "stream",
     "text": [
      "Encontre un -, lo voy a borrar\n",
      "Encontre un -, lo voy a borrar\n",
      "Encontre un -, lo voy a borrar\n",
      "Encontre un -, lo voy a borrar\n",
      "Encontre un -, lo voy a borrar\n",
      "Encontre un -, lo voy a borrar\n",
      "Encontre un -, lo voy a borrar\n",
      "Encontre un -, lo voy a borrar\n",
      "Lista sin espacios vacios\n",
      "['A', 'A', '-', 'B', 'B', 'C', 'C', '-', 'D', 'D', 'D', 'D', 'D', 'E', '-', '-', '-', 'H', 'H', 'H', 'I', '-']\n"
     ]
    }
   ],
   "source": [
    "index = 0\n",
    "for item in process_list:\n",
    "    #print(f'indice : ´{index}, valor_lista = {process_list[index]}, item ={item}')\n",
    "    if item == '-':\n",
    "        print(f'Encontre un {item}, lo voy a borrar')\n",
    "        process_list.pop(index)\n",
    "    index+=1\n",
    "print('Lista sin espacios vacios')\n",
    "print(process_list)\n"
   ]
  },
  {
   "cell_type": "code",
   "execution_count": 10,
   "metadata": {},
   "outputs": [
    {
     "name": "stdout",
     "output_type": "stream",
     "text": [
      "Lista original: \n",
      " ['A', 'A', '-', '-', 'B', 'B', 'C', 'C', '-', '-', 'D', '-', 'D', 'D', 'D', 'D', 'E', '-', '-', '-', '-', '-', '-', 'H', 'H', 'H', '-', 'I', '-', '-']\n",
      "Lista limpia: \n",
      " ['A', 'A', '-', 'B', 'B', 'C', 'C', '-', '-', 'D', '-', 'D', 'D', 'D', 'D', 'E', '-', '-', '-', '-', '-', '-', 'H', 'H', 'H', '-', 'I', '-', '-']\n"
     ]
    }
   ],
   "source": [
    "print(f'Lista original: \\n {process_list}')\n",
    "process_list.remove(\"-\")\n",
    "print(f'Lista limpia: \\n {process_list}')"
   ]
  },
  {
   "cell_type": "code",
   "execution_count": 4,
   "metadata": {},
   "outputs": [
    {
     "name": "stdout",
     "output_type": "stream",
     "text": [
      "Lista original : \n",
      "['A', 'A', '-', '-', 'B', 'B', 'C', 'C', '-', '-', 'D', '-', 'D', 'D', 'D', 'D', 'E', '-', '-', '-', '-', '-', '-', 'H', 'H', 'H', '-', 'I', '-', '-']\n",
      "\n",
      "Lista compactada: \n",
      " ['A', 'A', 'B', 'B', 'C', 'C', 'D', 'D', 'D', 'D', 'D', 'E', 'H', 'H', 'H', 'I']\n",
      "Lista compactada lista: \n",
      " ['A', 'A', 'B', 'B', 'C', 'C', 'D', 'D', 'D', 'D', 'D', 'E', 'H', 'H', 'H', 'I', '-', '-', '-', '-', '-', '-', '-', '-', '-', '-', '-', '-', '-', '-']\n",
      "Long de la lista 30\n"
     ]
    }
   ],
   "source": [
    "process_list = [  'A','A','-','-','B' ,'B','C','C','-','-' ,'D','-','D','D','D' ,'D','E','-','-','-' ,'-','-','-','H','H' ,'H','-','I','-','-' ]\n",
    "\n",
    "compact_list = []\n",
    "print(f'Lista original : \\n{process_list}\\n')\n",
    "for item in process_list:\n",
    "    if item != \"-\":\n",
    "        compact_list.append(item)\n",
    "print(f'Lista compactada: \\n {compact_list}')\n",
    "\n",
    "#for space in (30-len(compact_list)):\n",
    "while len(compact_list) < 30:\n",
    "    compact_list.append(\"-\")\n",
    "\n",
    "\n",
    "print(f'Lista compactada lista: \\n {compact_list}')\n",
    "print(f'Long de la lista {len(compact_list)}')"
   ]
  },
  {
   "cell_type": "code",
   "execution_count": 7,
   "metadata": {},
   "outputs": [
    {
     "name": "stdout",
     "output_type": "stream",
     "text": [
      "indice : ´0, valor_lista = A, item =A\n",
      "indice : ´1, valor_lista = A, item =A\n",
      "indice : ´2, valor_lista = -, item =-\n",
      "indice : ´3, valor_lista = -, item =-\n",
      "indice : ´4, valor_lista = B, item =B\n",
      "indice : ´5, valor_lista = B, item =B\n",
      "indice : ´6, valor_lista = C, item =C\n",
      "indice : ´7, valor_lista = C, item =C\n",
      "indice : ´8, valor_lista = -, item =-\n",
      "indice : ´9, valor_lista = -, item =-\n",
      "indice : ´10, valor_lista = D, item =D\n",
      "indice : ´11, valor_lista = -, item =-\n",
      "indice : ´12, valor_lista = D, item =D\n",
      "indice : ´13, valor_lista = D, item =D\n",
      "indice : ´14, valor_lista = D, item =D\n",
      "indice : ´15, valor_lista = D, item =D\n",
      "indice : ´16, valor_lista = E, item =E\n",
      "indice : ´17, valor_lista = -, item =-\n",
      "indice : ´18, valor_lista = -, item =-\n",
      "indice : ´19, valor_lista = -, item =-\n",
      "indice : ´20, valor_lista = -, item =-\n",
      "indice : ´21, valor_lista = -, item =-\n",
      "indice : ´22, valor_lista = -, item =-\n",
      "indice : ´23, valor_lista = H, item =H\n",
      "indice : ´24, valor_lista = H, item =H\n",
      "indice : ´25, valor_lista = H, item =H\n",
      "indice : ´26, valor_lista = -, item =-\n",
      "indice : ´27, valor_lista = I, item =I\n",
      "indice : ´28, valor_lista = -, item =-\n",
      "indice : ´29, valor_lista = -, item =-\n"
     ]
    }
   ],
   "source": [
    "index = 0\n",
    "for item in process_list:\n",
    "    print(f'indice : ´{index}, valor_lista = {process_list[index]}, item ={item}')\n",
    "    index+=1\n"
   ]
  },
  {
   "cell_type": "code",
   "execution_count": 3,
   "metadata": {},
   "outputs": [
    {
     "ename": "TypeError",
     "evalue": "'int' object is not iterable",
     "output_type": "error",
     "traceback": [
      "\u001b[0;31m---------------------------------------------------------------------------\u001b[0m",
      "\u001b[0;31mTypeError\u001b[0m                                 Traceback (most recent call last)",
      "Cell \u001b[0;32mIn [3], line 1\u001b[0m\n\u001b[0;32m----> 1\u001b[0m \u001b[38;5;28;01mfor\u001b[39;00m index \u001b[38;5;129;01min\u001b[39;00m (\u001b[38;5;28mlen\u001b[39m(process_list)\u001b[38;5;241m-\u001b[39m\u001b[38;5;241m1\u001b[39m):\n\u001b[1;32m      2\u001b[0m     \u001b[38;5;28mprint\u001b[39m(\u001b[38;5;124mf\u001b[39m\u001b[38;5;124m'\u001b[39m\u001b[38;5;124mindice : ´\u001b[39m\u001b[38;5;132;01m{\u001b[39;00mindex\u001b[38;5;132;01m}\u001b[39;00m\u001b[38;5;124m, valor \u001b[39m\u001b[38;5;132;01m{\u001b[39;00mprocess_list[index]\u001b[38;5;132;01m}\u001b[39;00m\u001b[38;5;124m'\u001b[39m)\n",
      "\u001b[0;31mTypeError\u001b[0m: 'int' object is not iterable"
     ]
    }
   ],
   "source": [
    "for index in (len(process_list)-1):\n",
    "    print(f'indice : ´{index}, valor {process_list[index]}')"
   ]
  },
  {
   "cell_type": "code",
   "execution_count": 1,
   "metadata": {},
   "outputs": [
    {
     "name": "stdout",
     "output_type": "stream",
     "text": [
      "s\n",
      "t\n",
      "r\n",
      "The end\n"
     ]
    }
   ],
   "source": [
    "# Use of break statement inside the loop\n",
    "\n",
    "for val in \"string\":\n",
    "    if val == \"i\":\n",
    "        break\n",
    "    print(val)\n",
    "\n",
    "print(\"The end\")"
   ]
  }
 ],
 "metadata": {
  "kernelspec": {
   "display_name": "Python 3.10.7 64-bit",
   "language": "python",
   "name": "python3"
  },
  "language_info": {
   "codemirror_mode": {
    "name": "ipython",
    "version": 3
   },
   "file_extension": ".py",
   "mimetype": "text/x-python",
   "name": "python",
   "nbconvert_exporter": "python",
   "pygments_lexer": "ipython3",
   "version": "3.10.7"
  },
  "orig_nbformat": 4,
  "vscode": {
   "interpreter": {
    "hash": "aee8b7b246df8f9039afb4144a1f6fd8d2ca17a180786b69acc140d282b71a49"
   }
  }
 },
 "nbformat": 4,
 "nbformat_minor": 2
}
