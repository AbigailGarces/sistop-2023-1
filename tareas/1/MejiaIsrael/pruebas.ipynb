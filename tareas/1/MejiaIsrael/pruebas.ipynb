{
 "cells": [
  {
   "cell_type": "code",
   "execution_count": 6,
   "metadata": {},
   "outputs": [
    {
     "name": "stdout",
     "output_type": "stream",
     "text": [
      "A\n"
     ]
    }
   ],
   "source": [
    "process_list = [\n",
    "                'A','A','-','-','B'\n",
    "               ,'B','C','C','-','-'\n",
    "               ,'D','-','D','D','D'\n",
    "               ,'D','E','-','-','-'\n",
    "               ,'-','-','-','H','H'\n",
    "               ,'H','-','I','-','-'\n",
    "               ]\n",
    "print(process_list[1])"
   ]
  },
  {
   "cell_type": "code",
   "execution_count": 5,
   "metadata": {},
   "outputs": [
    {
     "name": "stdout",
     "output_type": "stream",
     "text": [
      "indice : ´1, valor_lista = x, item =A\n",
      "indice : ´2, valor_lista = -, item =x\n",
      "indice : ´3, valor_lista = -, item =-\n",
      "indice : ´4, valor_lista = B, item =-\n",
      "indice : ´5, valor_lista = B, item =B\n",
      "indice : ´6, valor_lista = C, item =B\n",
      "indice : ´7, valor_lista = C, item =C\n",
      "indice : ´8, valor_lista = -, item =C\n",
      "indice : ´9, valor_lista = -, item =-\n",
      "indice : ´10, valor_lista = D, item =-\n",
      "indice : ´11, valor_lista = -, item =D\n",
      "indice : ´12, valor_lista = D, item =-\n",
      "indice : ´13, valor_lista = D, item =D\n",
      "indice : ´14, valor_lista = D, item =D\n",
      "indice : ´15, valor_lista = D, item =D\n",
      "indice : ´16, valor_lista = E, item =D\n",
      "indice : ´17, valor_lista = -, item =E\n",
      "indice : ´18, valor_lista = -, item =-\n",
      "indice : ´19, valor_lista = -, item =-\n",
      "indice : ´20, valor_lista = -, item =-\n",
      "indice : ´21, valor_lista = -, item =-\n",
      "indice : ´22, valor_lista = -, item =-\n",
      "indice : ´23, valor_lista = H, item =-\n",
      "indice : ´24, valor_lista = H, item =H\n",
      "indice : ´25, valor_lista = H, item =H\n",
      "indice : ´26, valor_lista = -, item =H\n",
      "indice : ´27, valor_lista = I, item =-\n",
      "indice : ´28, valor_lista = -, item =I\n",
      "indice : ´29, valor_lista = -, item =-\n"
     ]
    },
    {
     "ename": "IndexError",
     "evalue": "list index out of range",
     "output_type": "error",
     "traceback": [
      "\u001b[0;31m---------------------------------------------------------------------------\u001b[0m",
      "\u001b[0;31mIndexError\u001b[0m                                Traceback (most recent call last)",
      "Cell \u001b[0;32mIn [5], line 4\u001b[0m\n\u001b[1;32m      2\u001b[0m \u001b[38;5;28;01mfor\u001b[39;00m item \u001b[38;5;129;01min\u001b[39;00m process_list:\n\u001b[1;32m      3\u001b[0m     index\u001b[38;5;241m+\u001b[39m\u001b[38;5;241m=\u001b[39m\u001b[38;5;241m1\u001b[39m\n\u001b[0;32m----> 4\u001b[0m     \u001b[38;5;28mprint\u001b[39m(\u001b[38;5;124mf\u001b[39m\u001b[38;5;124m'\u001b[39m\u001b[38;5;124mindice : ´\u001b[39m\u001b[38;5;132;01m{\u001b[39;00mindex\u001b[38;5;132;01m}\u001b[39;00m\u001b[38;5;124m, valor_lista = \u001b[39m\u001b[38;5;132;01m{\u001b[39;00mprocess_list[index]\u001b[38;5;132;01m}\u001b[39;00m\u001b[38;5;124m, item =\u001b[39m\u001b[38;5;132;01m{\u001b[39;00mitem\u001b[38;5;132;01m}\u001b[39;00m\u001b[38;5;124m'\u001b[39m)\n",
      "\u001b[0;31mIndexError\u001b[0m: list index out of range"
     ]
    }
   ],
   "source": [
    "index = 0\n",
    "for item in process_list:\n",
    "    print(f'indice : ´{index}, valor_lista = {process_list[index]}, item ={item}')\n",
    "    index+=1\n"
   ]
  },
  {
   "cell_type": "code",
   "execution_count": 3,
   "metadata": {},
   "outputs": [
    {
     "ename": "TypeError",
     "evalue": "'int' object is not iterable",
     "output_type": "error",
     "traceback": [
      "\u001b[0;31m---------------------------------------------------------------------------\u001b[0m",
      "\u001b[0;31mTypeError\u001b[0m                                 Traceback (most recent call last)",
      "Cell \u001b[0;32mIn [3], line 1\u001b[0m\n\u001b[0;32m----> 1\u001b[0m \u001b[38;5;28;01mfor\u001b[39;00m index \u001b[38;5;129;01min\u001b[39;00m (\u001b[38;5;28mlen\u001b[39m(process_list)\u001b[38;5;241m-\u001b[39m\u001b[38;5;241m1\u001b[39m):\n\u001b[1;32m      2\u001b[0m     \u001b[38;5;28mprint\u001b[39m(\u001b[38;5;124mf\u001b[39m\u001b[38;5;124m'\u001b[39m\u001b[38;5;124mindice : ´\u001b[39m\u001b[38;5;132;01m{\u001b[39;00mindex\u001b[38;5;132;01m}\u001b[39;00m\u001b[38;5;124m, valor \u001b[39m\u001b[38;5;132;01m{\u001b[39;00mprocess_list[index]\u001b[38;5;132;01m}\u001b[39;00m\u001b[38;5;124m'\u001b[39m)\n",
      "\u001b[0;31mTypeError\u001b[0m: 'int' object is not iterable"
     ]
    }
   ],
   "source": [
    "for index in (len(process_list)-1):\n",
    "    print(f'indice : ´{index}, valor {process_list[index]}')"
   ]
  },
  {
   "cell_type": "code",
   "execution_count": 1,
   "metadata": {},
   "outputs": [
    {
     "name": "stdout",
     "output_type": "stream",
     "text": [
      "s\n",
      "t\n",
      "r\n",
      "The end\n"
     ]
    }
   ],
   "source": [
    "# Use of break statement inside the loop\n",
    "\n",
    "for val in \"string\":\n",
    "    if val == \"i\":\n",
    "        break\n",
    "    print(val)\n",
    "\n",
    "print(\"The end\")"
   ]
  }
 ],
 "metadata": {
  "kernelspec": {
   "display_name": "Python 3.10.7 64-bit",
   "language": "python",
   "name": "python3"
  },
  "language_info": {
   "codemirror_mode": {
    "name": "ipython",
    "version": 3
   },
   "file_extension": ".py",
   "mimetype": "text/x-python",
   "name": "python",
   "nbconvert_exporter": "python",
   "pygments_lexer": "ipython3",
   "version": "3.10.7"
  },
  "orig_nbformat": 4,
  "vscode": {
   "interpreter": {
    "hash": "aee8b7b246df8f9039afb4144a1f6fd8d2ca17a180786b69acc140d282b71a49"
   }
  }
 },
 "nbformat": 4,
 "nbformat_minor": 2
}
